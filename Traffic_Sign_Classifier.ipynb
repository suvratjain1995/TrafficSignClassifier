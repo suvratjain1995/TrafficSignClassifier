{
 "cells": [
  {
   "cell_type": "markdown",
   "metadata": {},
   "source": [
    "# Self-Driving Car Engineer Nanodegree\n",
    "\n",
    "## Deep Learning\n",
    "\n",
    "## Project: Build a Traffic Sign Recognition Classifier\n",
    "\n",
    "In this notebook, a template is provided for you to implement your functionality in stages, which is required to successfully complete this project. If additional code is required that cannot be included in the notebook, be sure that the Python code is successfully imported and included in your submission if necessary. \n",
    "\n",
    "> **Note**: Once you have completed all of the code implementations, you need to finalize your work by exporting the iPython Notebook as an HTML document. Before exporting the notebook to html, all of the code cells need to have been run so that reviewers can see the final implementation and output. You can then export the notebook by using the menu above and navigating to  \\n\",\n",
    "    \"**File -> Download as -> HTML (.html)**. Include the finished document along with this notebook as your submission. \n",
    "\n",
    "In addition to implementing code, there is a writeup to complete. The writeup should be completed in a separate file, which can be either a markdown file or a pdf document. There is a [write up template](https://github.com/udacity/CarND-Traffic-Sign-Classifier-Project/blob/master/writeup_template.md) that can be used to guide the writing process. Completing the code template and writeup template will cover all of the [rubric points](https://review.udacity.com/#!/rubrics/481/view) for this project.\n",
    "\n",
    "The [rubric](https://review.udacity.com/#!/rubrics/481/view) contains \"Stand Out Suggestions\" for enhancing the project beyond the minimum requirements. The stand out suggestions are optional. If you decide to pursue the \"stand out suggestions\", you can include the code in this Ipython notebook and also discuss the results in the writeup file.\n",
    "\n",
    "\n",
    ">**Note:** Code and Markdown cells can be executed using the **Shift + Enter** keyboard shortcut. In addition, Markdown cells can be edited by typically double-clicking the cell to enter edit mode."
   ]
  },
  {
   "cell_type": "markdown",
   "metadata": {},
   "source": [
    "---\n",
    "## Step 0: Load The Data"
   ]
  },
  {
   "cell_type": "code",
   "execution_count": 30,
   "metadata": {
    "collapsed": true
   },
   "outputs": [],
   "source": [
    "# Load pickled data\n",
    "import pickle\n",
    "import tensorflow as tf\n",
    "import matplotlib.pyplot as plt\n",
    "import matplotlib.image as mpimg\n",
    "import cv2\n",
    "import numpy as np\n",
    "# TODO: Fill this in based on where you saved the training and testing data\n",
    "from sklearn.utils import shuffle\n",
    "\n",
    "training_file = \"train.p\"\n",
    "validation_file=\"valid.p\"\n",
    "testing_file = \"test.p\"\n",
    "\n",
    "with open(training_file, mode='rb') as f:\n",
    "    train = pickle.load(f)\n",
    "with open(validation_file, mode='rb') as f:\n",
    "    valid = pickle.load(f)\n",
    "with open(testing_file, mode='rb') as f:\n",
    "    test = pickle.load(f)\n",
    "    \n",
    "X_train, y_train = train['features'], train['labels']\n",
    "X_valid, y_valid = valid['features'], valid['labels']\n",
    "X_test, y_test = test['features'], test['labels']"
   ]
  },
  {
   "cell_type": "markdown",
   "metadata": {},
   "source": [
    "---\n",
    "\n",
    "## Step 1: Dataset Summary & Exploration\n",
    "\n",
    "The pickled data is a dictionary with 4 key/value pairs:\n",
    "\n",
    "- `'features'` is a 4D array containing raw pixel data of the traffic sign images, (num examples, width, height, channels).\n",
    "- `'labels'` is a 1D array containing the label/class id of the traffic sign. The file `signnames.csv` contains id -> name mappings for each id.\n",
    "- `'sizes'` is a list containing tuples, (width, height) representing the original width and height the image.\n",
    "- `'coords'` is a list containing tuples, (x1, y1, x2, y2) representing coordinates of a bounding box around the sign in the image. **THESE COORDINATES ASSUME THE ORIGINAL IMAGE. THE PICKLED DATA CONTAINS RESIZED VERSIONS (32 by 32) OF THESE IMAGES**\n",
    "\n",
    "Complete the basic data summary below. Use python, numpy and/or pandas methods to calculate the data summary rather than hard coding the results. For example, the [pandas shape method](http://pandas.pydata.org/pandas-docs/stable/generated/pandas.DataFrame.shape.html) might be useful for calculating some of the summary results. "
   ]
  },
  {
   "cell_type": "markdown",
   "metadata": {},
   "source": [
    "### Provide a Basic Summary of the Data Set Using Python, Numpy and/or Pandas"
   ]
  },
  {
   "cell_type": "code",
   "execution_count": 31,
   "metadata": {},
   "outputs": [
    {
     "name": "stdout",
     "output_type": "stream",
     "text": [
      "Number of training examples = 34799\n",
      "Number of testing examples = 12630\n",
      "Image data shape = (32, 32)\n",
      "Number of classes = 43\n"
     ]
    }
   ],
   "source": [
    "### Replace each question mark with the appropriate value. \n",
    "### Use python, pandas or numpy methods rather than hard coding the results\n",
    "\n",
    "# TODO: Number of training examples\n",
    "n_train = len(X_train)\n",
    "\n",
    "# TODO: Number of validation examples\n",
    "n_validation = len(X_valid)\n",
    "\n",
    "# TODO: Number of testing examples.\n",
    "n_test = len(X_test)\n",
    "\n",
    "# TODO: What's the shape of an traffic sign image?\n",
    "image_shape = (32,32)\n",
    "\n",
    "# TODO: How many unique classes/labels there are in the dataset.\n",
    "n_classes = np.unique(y_train).size\n",
    "\n",
    "print(\"Number of training examples =\", n_train)\n",
    "print(\"Number of testing examples =\", n_test)\n",
    "print(\"Image data shape =\", image_shape)\n",
    "print(\"Number of classes =\", n_classes)"
   ]
  },
  {
   "cell_type": "markdown",
   "metadata": {},
   "source": [
    "### Include an exploratory visualization of the dataset"
   ]
  },
  {
   "cell_type": "markdown",
   "metadata": {},
   "source": [
    "Visualize the German Traffic Signs Dataset using the pickled file(s). This is open ended, suggestions include: plotting traffic sign images, plotting the count of each sign, etc. \n",
    "\n",
    "The [Matplotlib](http://matplotlib.org/) [examples](http://matplotlib.org/examples/index.html) and [gallery](http://matplotlib.org/gallery.html) pages are a great resource for doing visualizations in Python.\n",
    "\n",
    "**NOTE:** It's recommended you start with something simple first. If you wish to do more, come back to it after you've completed the rest of the sections. It can be interesting to look at the distribution of classes in the training, validation and test set. Is the distribution the same? Are there more examples of some classes than others?"
   ]
  },
  {
   "cell_type": "code",
   "execution_count": 32,
   "metadata": {
    "collapsed": true
   },
   "outputs": [],
   "source": [
    "### Data exploration visualization code goes here.\n",
    "### Feel free to use as many code cells as needed.\n",
    "import matplotlib.pyplot as plt\n",
    "import random\n",
    "# Visualizations will be shown in the notebook.\n",
    "%matplotlib inline\n",
    "def visualize(X_train,case=\"default\"):\n",
    "    index = random.randint(0, len(X_train))\n",
    "    image = X_train[index].squeeze()\n",
    "    plt.figure(figsize=(1,1))\n",
    "    print(image)\n",
    "    plt.imshow(image, cmap=\"gray\")\n",
    "    if case == \"augmented\":\n",
    "        print(augmented_y[index])\n",
    "    elif case == \"test\":\n",
    "        print(y_test[index])\n",
    "    elif case == \"valid\":\n",
    "        print(y_valid[index])\n",
    "    else:\n",
    "        print(y_train[index])\n",
    "    print(image.shape)"
   ]
  },
  {
   "cell_type": "markdown",
   "metadata": {},
   "source": [
    "----\n",
    "\n",
    "## Step 2: Design and Test a Model Architecture\n",
    "\n",
    "Design and implement a deep learning model that learns to recognize traffic signs. Train and test your model on the [German Traffic Sign Dataset](http://benchmark.ini.rub.de/?section=gtsrb&subsection=dataset).\n",
    "\n",
    "The LeNet-5 implementation shown in the [classroom](https://classroom.udacity.com/nanodegrees/nd013/parts/fbf77062-5703-404e-b60c-95b78b2f3f9e/modules/6df7ae49-c61c-4bb2-a23e-6527e69209ec/lessons/601ae704-1035-4287-8b11-e2c2716217ad/concepts/d4aca031-508f-4e0b-b493-e7b706120f81) at the end of the CNN lesson is a solid starting point. You'll have to change the number of classes and possibly the preprocessing, but aside from that it's plug and play! \n",
    "\n",
    "With the LeNet-5 solution from the lecture, you should expect a validation set accuracy of about 0.89. To meet specifications, the validation set accuracy will need to be at least 0.93. It is possible to get an even higher accuracy, but 0.93 is the minimum for a successful project submission. \n",
    "\n",
    "There are various aspects to consider when thinking about this problem:\n",
    "\n",
    "- Neural network architecture (is the network over or underfitting?)\n",
    "- Play around preprocessing techniques (normalization, rgb to grayscale, etc)\n",
    "- Number of examples per label (some have more than others).\n",
    "- Generate fake data.\n",
    "\n",
    "Here is an example of a [published baseline model on this problem](http://yann.lecun.com/exdb/publis/pdf/sermanet-ijcnn-11.pdf). It's not required to be familiar with the approach used in the paper but, it's good practice to try to read papers like these."
   ]
  },
  {
   "cell_type": "markdown",
   "metadata": {},
   "source": [
    "### Pre-process the Data Set (normalization, grayscale, etc.)"
   ]
  },
  {
   "cell_type": "markdown",
   "metadata": {},
   "source": [
    "Minimally, the image data should be normalized so that the data has mean zero and equal variance. For image data, `(pixel - 128)/ 128` is a quick way to approximately normalize the data and can be used in this project. \n",
    "\n",
    "Other pre-processing steps are optional. You can try different techniques to see if it improves performance. \n",
    "\n",
    "Use the code cell (or multiple code cells, if necessary) to implement the first step of your project."
   ]
  },
  {
   "cell_type": "code",
   "execution_count": 33,
   "metadata": {},
   "outputs": [
    {
     "name": "stdout",
     "output_type": "stream",
     "text": [
      "11915\n"
     ]
    }
   ],
   "source": [
    "y_label_count = np.bincount(y_train)\n",
    "minimumcount = int(np.mean(y_label_count))\n",
    "# print(y_label_count.size)\n",
    "# print(minimumcount)\n",
    "\n",
    "#         print(temp)\n",
    "count=0\n",
    "for i in range(len(y_label_count)):\n",
    "    if(y_label_count[i]< minimumcount):\n",
    "        count+=minimumcount-y_label_count[i]\n",
    "print(count)"
   ]
  },
  {
   "cell_type": "code",
   "execution_count": 34,
   "metadata": {},
   "outputs": [
    {
     "name": "stdout",
     "output_type": "stream",
     "text": [
      "(34799, 32, 32, 3)\n",
      "(34799,)\n"
     ]
    }
   ],
   "source": [
    "print(X_train.shape)\n",
    "print(y_train.shape)"
   ]
  },
  {
   "cell_type": "code",
   "execution_count": 35,
   "metadata": {},
   "outputs": [
    {
     "data": {
      "text/plain": [
       "(array([  180.,  1980.,  2010.,  1260.,  1770.,  1650.,   360.,  1290.,\n",
       "         1260.,  1320.,  1800.,  1170.,  1890.,  1920.,   690.,   540.,\n",
       "          360.,   990.,  1080.,   180.,   300.,   270.,   330.,   450.,\n",
       "          240.,  1350.,   540.,   210.,   480.,   240.,   390.,   690.,\n",
       "          210.,   599.,   360.,  1080.,   330.,   180.,  1860.,   270.,\n",
       "          300.,   210.,   210.]),\n",
       " array([  0.        ,   0.97674419,   1.95348837,   2.93023256,\n",
       "          3.90697674,   4.88372093,   5.86046512,   6.8372093 ,\n",
       "          7.81395349,   8.79069767,   9.76744186,  10.74418605,\n",
       "         11.72093023,  12.69767442,  13.6744186 ,  14.65116279,\n",
       "         15.62790698,  16.60465116,  17.58139535,  18.55813953,\n",
       "         19.53488372,  20.51162791,  21.48837209,  22.46511628,\n",
       "         23.44186047,  24.41860465,  25.39534884,  26.37209302,\n",
       "         27.34883721,  28.3255814 ,  29.30232558,  30.27906977,\n",
       "         31.25581395,  32.23255814,  33.20930233,  34.18604651,\n",
       "         35.1627907 ,  36.13953488,  37.11627907,  38.09302326,\n",
       "         39.06976744,  40.04651163,  41.02325581,  42.        ]),\n",
       " <a list of 43 Patch objects>)"
      ]
     },
     "execution_count": 35,
     "metadata": {},
     "output_type": "execute_result"
    },
    {
     "data": {
      "image/png": "[encoded data removed]",
      "text/plain": [
       "<matplotlib.figure.Figure at 0x7f7c4ae7dc18>"
      ]
     },
     "metadata": {},
     "output_type": "display_data"
    }
   ],
   "source": [
    "plt.hist(y_train,bins=n_classes)"
   ]
  },
  {
   "cell_type": "code",
   "execution_count": 7,
   "metadata": {
    "collapsed": true
   },
   "outputs": [],
   "source": [
    "### Preprocess the data here. It is required to normalize the data. Other preprocessing steps could include \n",
    "### converting to grayscale, etc.\n",
    "### Feel free to use as many code cells as needed.\n",
    "def normalize(x):\n",
    "    x = x/255*0.8+0.1\n",
    "    return x\n"
   ]
  },
  {
   "cell_type": "code",
   "execution_count": 8,
   "metadata": {
    "collapsed": true
   },
   "outputs": [],
   "source": [
    "def grayscale(image):\n",
    "    return cv2.cvtColor(image, cv2.COLOR_BGR2GRAY)\n",
    "#     grey = np.zeros((image.shape[0], image.shape[1])) # init 2D numpy array\n",
    "#     # get row number\n",
    "#     for rownum in range(len(image)):\n",
    "#        for colnum in range(len(image[rownum])):\n",
    "#           grey[rownum][colnum] = int((int(image[rownum][colnum][0])+int(image[rownum][colnum][1])+int(image[rownum][colnum][2]))/3)\n",
    "#     return grey"
   ]
  },
  {
   "cell_type": "code",
   "execution_count": 9,
   "metadata": {
    "collapsed": true
   },
   "outputs": [],
   "source": [
    "def gray_scale_pipeline(img):\n",
    "    image_ = []\n",
    "    for i in img:\n",
    "        temp = grayscale(i)\n",
    "        image_.append(temp)\n",
    "    return np.array(image_)"
   ]
  },
  {
   "cell_type": "code",
   "execution_count": 10,
   "metadata": {
    "collapsed": true
   },
   "outputs": [],
   "source": [
    "def preprocess(X_data,case=\"default\"):\n",
    "    temp_data = X_data\n",
    "    temp_data = gray_scale_pipeline(temp_data)\n",
    "#     visualize(temp_data,case)\n",
    "    temp_data = normalize(temp_data)\n",
    "    return temp_data"
   ]
  },
  {
   "cell_type": "code",
   "execution_count": 11,
   "metadata": {
    "collapsed": true
   },
   "outputs": [],
   "source": [
    "################Preprocesing training and test data#################################3\n",
    "from numpy import newaxis\n",
    "\n",
    "X_train  = preprocess(X_train)\n",
    "X_train = X_train[...,newaxis]\n",
    "# print(X_train.shape)\n",
    "\n",
    "X_test =  preprocess(X_test,\"test\")\n",
    "X_test = X_test[...,newaxis]\n",
    "# print(X_test.shape)\n",
    "\n"
   ]
  },
  {
   "cell_type": "code",
   "execution_count": 12,
   "metadata": {
    "scrolled": true
   },
   "outputs": [
    {
     "name": "stderr",
     "output_type": "stream",
     "text": [
      "Using TensorFlow backend.\n"
     ]
    },
    {
     "name": "stdout",
     "output_type": "stream",
     "text": [
      "[[ 0.18156862  0.17843138  0.17529412 ...,  0.20039216  0.1972549\n",
      "   0.1972549 ]\n",
      " [ 0.18156862  0.17843138  0.17529412 ...,  0.1972549   0.20039216\n",
      "   0.20039216]\n",
      " [ 0.18156862  0.17843138  0.17529412 ...,  0.20039216  0.20666666\n",
      "   0.20666666]\n",
      " ..., \n",
      " [ 0.18470588  0.18470588  0.17529412 ...,  0.21294117  0.20666666\n",
      "   0.1972549 ]\n",
      " [ 0.18470588  0.18156862  0.17529412 ...,  0.21294117  0.20666666\n",
      "   0.1972549 ]\n",
      " [ 0.18156862  0.18470588  0.17843138 ...,  0.21294117  0.20666666\n",
      "   0.1972549 ]]\n",
      "30\n",
      "(32, 32)\n",
      "(34799,)\n",
      "(11941, 32, 32, 1)\n",
      "(11941,)\n"
     ]
    },
    {
     "data": {
      "image/png": "[encoded data removed]",
      "text/plain": [
       "<matplotlib.figure.Figure at 0x7f7c37e25828>"
      ]
     },
     "metadata": {},
     "output_type": "display_data"
    }
   ],
   "source": [
    "#Augmentation of data####\n",
    "from sklearn.model_selection import train_test_split\n",
    "from keras.preprocessing.image import ImageDataGenerator, array_to_img, img_to_array, load_img\n",
    "\n",
    "datagen = ImageDataGenerator(\n",
    "        rotation_range=40,\n",
    "        shear_range = 0.2,\n",
    "        fill_mode='nearest')\n",
    "augmented_x=[]\n",
    "datagen.fit(X_train)\n",
    "augmented_y=[]\n",
    "for i in range(len(y_label_count)):\n",
    "    if y_label_count[i] < minimumcount:\n",
    "        \n",
    "        temp = np.where(y_train == i )\n",
    "        count = 0\n",
    "        for x_temp,y_temp in datagen.flow(X_train[temp],y_train[temp],batch_size = 1):\n",
    "            count+=1\n",
    "            augmented_x.append(x_temp[0])\n",
    "            augmented_y.append(y_temp[0])\n",
    "            if(count > minimumcount-y_label_count[i]):\n",
    "                break\n",
    "augmented_x=np.array(augmented_x)\n",
    "augmented_y=np.array(augmented_y)\n",
    "visualize(augmented_x,\"augmented\")\n",
    "print(y_train.shape)\n",
    "print(augmented_x.shape)\n",
    "print(augmented_y.shape)\n",
    "X_train = np.append(X_train, augmented_x, axis=0)\n",
    "y_train = np.append(y_train, augmented_y, axis=0)\n",
    "X_train, X_valid1, y_train, y_valid1 = train_test_split(X_train, y_train, stratify = y_train, test_size=0.1, random_state=23)"
   ]
  },
  {
   "cell_type": "code",
   "execution_count": 28,
   "metadata": {},
   "outputs": [
    {
     "data": {
      "text/plain": [
       "(array([  729.,  1782.,  1809.,  1134.,  1593.,  1485.,   729.,  1161.,\n",
       "         1134.,  1188.,  1620.,  1053.,  1701.,  1728.,   729.,   729.,\n",
       "          729.,   891.,   972.,   729.,   729.,   729.,   729.,   729.,\n",
       "          729.,  1215.,   729.,   729.,   729.,   729.,   729.,   729.,\n",
       "          729.,   729.,   729.,   972.,   729.,   729.,  1674.,   729.,\n",
       "          729.,   729.,   729.]),\n",
       " array([  0.        ,   0.97674419,   1.95348837,   2.93023256,\n",
       "          3.90697674,   4.88372093,   5.86046512,   6.8372093 ,\n",
       "          7.81395349,   8.79069767,   9.76744186,  10.74418605,\n",
       "         11.72093023,  12.69767442,  13.6744186 ,  14.65116279,\n",
       "         15.62790698,  16.60465116,  17.58139535,  18.55813953,\n",
       "         19.53488372,  20.51162791,  21.48837209,  22.46511628,\n",
       "         23.44186047,  24.41860465,  25.39534884,  26.37209302,\n",
       "         27.34883721,  28.3255814 ,  29.30232558,  30.27906977,\n",
       "         31.25581395,  32.23255814,  33.20930233,  34.18604651,\n",
       "         35.1627907 ,  36.13953488,  37.11627907,  38.09302326,\n",
       "         39.06976744,  40.04651163,  41.02325581,  42.        ]),\n",
       " <a list of 43 Patch objects>)"
      ]
     },
     "execution_count": 28,
     "metadata": {},
     "output_type": "execute_result"
    },
    {
     "data": {
      "image/png": "[encoded data removed]",
      "text/plain": [
       "<matplotlib.figure.Figure at 0x7f7c1c57cdd8>"
      ]
     },
     "metadata": {},
     "output_type": "display_data"
    }
   ],
   "source": [
    "plt.hist(y_train,bins=n_classes)"
   ]
  },
  {
   "cell_type": "code",
   "execution_count": 12,
   "metadata": {
    "collapsed": true
   },
   "outputs": [],
   "source": [
    "##Dumping the normalized training and testing data into the pickle to extract later##\n",
    "pickle.dump(X_train,open(\"x_train.p\",\"wb\"))\n",
    "pickle.dump(X_test,open(\"x_test.p\",\"wb\"))"
   ]
  },
  {
   "cell_type": "markdown",
   "metadata": {},
   "source": [
    "### Model Architecture"
   ]
  },
  {
   "cell_type": "code",
   "execution_count": 13,
   "metadata": {
    "collapsed": true
   },
   "outputs": [],
   "source": [
    "### Define your architecture here.\n",
    "### Feel free to use as many code cells as needed.\n",
    "from tensorflow.contrib.layers import flatten\n",
    "EPOCHS=25\n",
    "BATCH_SIZE=150\n",
    "def Model_Arch(x):    \n",
    "    # Arguments used for tf.truncated_normal, randomly defines variables for the weights and biases for each layer\n",
    "    mu = 0\n",
    "    sigma = 0.1\n",
    "    filter_1 = tf.Variable(tf.truncated_normal(shape = (5,5,1,6),mean = mu,stddev = sigma))\n",
    "    bias_1 = tf.Variable(tf.zeros(6))\n",
    "    \n",
    "    \n",
    "    # TODO: Layer 1: Convolutional. Input = 32x32x1. Output = 28x28x6.\n",
    "    #conv2d takes input,filter,strides,padding\n",
    "    conv1 = tf.nn.conv2d(x,filter_1,strides=[1,1,1,1],padding = 'VALID')\n",
    "    #adding bias \n",
    "    conv1 = conv1 + bias_1\n",
    "    \n",
    "    \n",
    "    # TODO: Activation.\n",
    "    conv1 = tf.nn.relu(conv1)\n",
    "    # TODO: Pooling. Input = 28x28x6. Output = 14x14x6.\n",
    "    \n",
    "    #maxpool takes input,internalwindowsize,strides,padding\n",
    "    \n",
    "    conv1 = tf.nn.avg_pool(conv1,ksize = [1,2,2,1],strides = [1,2,2,1],padding = 'VALID')\n",
    "    \n",
    "    first_layer_output = conv1\n",
    "    #first_layer_output_size  14*14*6\n",
    "    # TODO: Layer 2: Convolutional. Output = 10x10x16.\n",
    "    #shape for truncatednormal in filter is (,,inputdepth,outputdepth)\n",
    "    \n",
    "    filter_2 = tf.Variable(tf.truncated_normal(shape = (5,5,6,16),mean = mu,stddev = sigma))\n",
    "    \n",
    "    bias_2 = tf.Variable(tf.zeros(16))\n",
    "    conv2 = tf.nn.conv2d(first_layer_output,filter_2,strides=[1,1,1,1],padding = 'VALID')\n",
    "    conv2 = conv2+bias_2\n",
    "    \n",
    "    \n",
    "    \n",
    "    \n",
    "    # TODO: Activation.\n",
    "    \n",
    "    conv2 = tf.nn.relu(conv2)\n",
    "    \n",
    "    # TODO: Pooling. Input = 10x10x16. Output = 5x5x16.\n",
    "    \n",
    "    conv2 = tf.nn.avg_pool(conv2,ksize = [1,2,2,1],strides = [1,2,2,1],padding = 'VALID')\n",
    "    \n",
    "    # TODO: Flatten. Input = 5x5x16. Output = 400.\n",
    "    \n",
    "    second_layer_output = conv2\n",
    "    \n",
    "    flatted_input = flatten(second_layer_output)\n",
    "    \n",
    "    # TODO: Layer 3: Fully Connected. Input = 400. Output = 120.\n",
    "    weight_1  = tf.Variable(tf.truncated_normal(shape = (400,200),mean = mu,stddev = sigma))\n",
    "    bias_3 = tf.Variable(tf.zeros(200))\n",
    "    \n",
    "    output = tf.add(tf.matmul(flatted_input,weight_1),bias_3)\n",
    "    # TODO: Activation.\n",
    "    output = tf.nn.relu(output)\n",
    "    output = tf.nn.dropout(output, prob)\n",
    "    # TODO: Layer 4: Fully Connected. Input = 120. Output = 84.\n",
    "    weight_2  = tf.Variable(tf.truncated_normal(shape = (200,100),mean = mu,stddev = sigma))\n",
    "    bias_4  = tf.Variable(tf.zeros(100))\n",
    "    output2 = tf.add(tf.matmul(output,weight_2),bias_4)\n",
    "    output2 = tf.nn.relu(output2)\n",
    "    output2 = tf.nn.dropout(output2, prob)\n",
    "    \n",
    "    # TODO: Activation.\n",
    "\n",
    "    # TODO: Layer 5: Fully Connected. Input = 84. Output = 10.\n",
    "    weight_3 = tf.Variable(tf.truncated_normal(shape=(100,43),mean = mu,stddev = sigma))\n",
    "    bias_5 = tf.Variable(tf.zeros(43))\n",
    "    output3 = tf.add(tf.matmul(output2,weight_3),bias_5)\n",
    "    logits = output3\n",
    "    return logits\n",
    "\n",
    "\n"
   ]
  },
  {
   "cell_type": "markdown",
   "metadata": {},
   "source": [
    "### Train, Validate and Test the Model"
   ]
  },
  {
   "cell_type": "markdown",
   "metadata": {},
   "source": [
    "A validation set can be used to assess how well the model is performing. A low accuracy on the training and validation\n",
    "sets imply underfitting. A high accuracy on the training set but low accuracy on the validation set implies overfitting."
   ]
  },
  {
   "cell_type": "code",
   "execution_count": 14,
   "metadata": {
    "collapsed": true
   },
   "outputs": [],
   "source": [
    "#Place Holders:-\n",
    "x = tf.placeholder(tf.float32, (None, 32, 32, 1))\n",
    "y = tf.placeholder(tf.int32, (None))\n",
    "prob = tf.placeholder(tf.float32)\n",
    "one_hot_y = tf.one_hot(y, 43)"
   ]
  },
  {
   "cell_type": "code",
   "execution_count": 15,
   "metadata": {
    "collapsed": true
   },
   "outputs": [],
   "source": [
    "###Training Pipeline the dataset####\n",
    "rate = 0.005\n",
    "\n",
    "logits = Model_Arch(x)\n",
    "cross_entropy = tf.nn.softmax_cross_entropy_with_logits(labels=one_hot_y, logits=logits)\n",
    "loss_operation = tf.reduce_mean(cross_entropy)\n",
    "optimizer = tf.train.AdamOptimizer(learning_rate = rate)\n",
    "training_operation = optimizer.minimize(loss_operation)"
   ]
  },
  {
   "cell_type": "code",
   "execution_count": 16,
   "metadata": {
    "collapsed": true
   },
   "outputs": [],
   "source": [
    "###Evalute the model####\n",
    "\n",
    "correct_prediction = tf.equal(tf.argmax(logits, 1), tf.argmax(one_hot_y, 1))\n",
    "accuracy_operation = tf.reduce_mean(tf.cast(correct_prediction, tf.float32))\n",
    "saver = tf.train.Saver()\n",
    "\n",
    "def evaluate(X_data, y_data):\n",
    "    num_examples = len(X_data)\n",
    "    total_accuracy = 0\n",
    "    sess = tf.get_default_session()\n",
    "    for offset in range(0, num_examples, BATCH_SIZE):\n",
    "        batch_x, batch_y = X_data[offset:offset+BATCH_SIZE], y_data[offset:offset+BATCH_SIZE]\n",
    "        accuracy = sess.run(accuracy_operation, feed_dict={x: batch_x, y: batch_y,prob:1.0})\n",
    "        total_accuracy += (accuracy * len(batch_x))\n",
    "    return total_accuracy / num_examples"
   ]
  },
  {
   "cell_type": "code",
   "execution_count": 17,
   "metadata": {},
   "outputs": [
    {
     "name": "stdout",
     "output_type": "stream",
     "text": [
      "Training...\n",
      "\n",
      "EPOCH 1 ...\n",
      "Validation Accuracy = 0.786\n",
      "\n",
      "EPOCH 2 ...\n",
      "Validation Accuracy = 0.874\n",
      "\n",
      "EPOCH 3 ...\n",
      "Validation Accuracy = 0.915\n",
      "\n",
      "EPOCH 4 ...\n",
      "Validation Accuracy = 0.939\n",
      "\n",
      "EPOCH 5 ...\n",
      "Validation Accuracy = 0.959\n",
      "\n",
      "EPOCH 6 ...\n",
      "Validation Accuracy = 0.960\n",
      "\n",
      "EPOCH 7 ...\n",
      "Validation Accuracy = 0.966\n",
      "\n",
      "EPOCH 8 ...\n",
      "Validation Accuracy = 0.972\n",
      "\n",
      "EPOCH 9 ...\n",
      "Validation Accuracy = 0.975\n",
      "\n",
      "EPOCH 10 ...\n",
      "Validation Accuracy = 0.969\n",
      "\n",
      "EPOCH 11 ...\n",
      "Validation Accuracy = 0.978\n",
      "\n",
      "EPOCH 12 ...\n",
      "Validation Accuracy = 0.976\n",
      "\n",
      "EPOCH 13 ...\n",
      "Validation Accuracy = 0.979\n",
      "\n",
      "EPOCH 14 ...\n",
      "Validation Accuracy = 0.974\n",
      "\n",
      "EPOCH 15 ...\n",
      "Validation Accuracy = 0.980\n",
      "\n",
      "EPOCH 16 ...\n",
      "Validation Accuracy = 0.979\n",
      "\n",
      "EPOCH 17 ...\n",
      "Validation Accuracy = 0.980\n",
      "\n",
      "EPOCH 18 ...\n",
      "Validation Accuracy = 0.983\n",
      "\n",
      "EPOCH 19 ...\n",
      "Validation Accuracy = 0.983\n",
      "\n",
      "EPOCH 20 ...\n",
      "Validation Accuracy = 0.984\n",
      "\n",
      "EPOCH 21 ...\n",
      "Validation Accuracy = 0.980\n",
      "\n",
      "EPOCH 22 ...\n",
      "Validation Accuracy = 0.987\n",
      "\n",
      "EPOCH 23 ...\n",
      "Validation Accuracy = 0.986\n",
      "\n",
      "EPOCH 24 ...\n",
      "Validation Accuracy = 0.986\n",
      "\n",
      "EPOCH 25 ...\n",
      "Validation Accuracy = 0.982\n",
      "\n",
      "Model saved\n"
     ]
    }
   ],
   "source": [
    "###Training out Model#####\n",
    "with tf.Session() as sess:\n",
    "    sess.run(tf.global_variables_initializer())\n",
    "    num_examples = len(X_train)\n",
    "    \n",
    "    print(\"Training...\")\n",
    "    print()\n",
    "    for i in range(EPOCHS):\n",
    "        X_train, y_train = shuffle(X_train, y_train)\n",
    "        for offset in range(0, num_examples, BATCH_SIZE):\n",
    "            end = offset + BATCH_SIZE\n",
    "            batch_x, batch_y = X_train[offset:end], y_train[offset:end]\n",
    "            sess.run(training_operation, feed_dict={x: batch_x, y: batch_y,prob:0.7})\n",
    "            \n",
    "        validation_accuracy = evaluate(X_valid1, y_valid1)\n",
    "        print(\"EPOCH {} ...\".format(i+1))\n",
    "        print(\"Validation Accuracy = {:.3f}\".format(validation_accuracy))\n",
    "        print()\n",
    "        \n",
    "    saver.save(sess, 'TrafficSign.ckpt')\n",
    "    print(\"Model saved\")"
   ]
  },
  {
   "cell_type": "markdown",
   "metadata": {},
   "source": [
    "---\n",
    "\n",
    "## Step 3: Test a Model on New Images\n",
    "\n",
    "To give yourself more insight into how your model is working, download at least five pictures of German traffic signs from the web and use your model to predict the traffic sign type.\n",
    "\n",
    "You may find `signnames.csv` useful as it contains mappings from the class id (integer) to the actual sign name."
   ]
  },
  {
   "cell_type": "code",
   "execution_count": 17,
   "metadata": {},
   "outputs": [
    {
     "name": "stdout",
     "output_type": "stream",
     "text": [
      "Test Accuracy: 0.9244661331176758\n"
     ]
    }
   ],
   "source": [
    "\n",
    "with tf.Session() as sess:\n",
    "    sess.run(tf.global_variables_initializer())\n",
    "    saver.restore(sess, './TrafficSign.ckpt')\n",
    "\n",
    "    test_accuracy = sess.run(accuracy_operation, feed_dict={x: X_test, y: y_test,prob : 1.0})\n",
    "\n",
    "print('Test Accuracy: {}'.format(test_accuracy))"
   ]
  },
  {
   "cell_type": "code",
   "execution_count": 18,
   "metadata": {},
   "outputs": [
    {
     "name": "stdout",
     "output_type": "stream",
     "text": [
      "Validation Accuracy: 0.9498868584632874\n"
     ]
    }
   ],
   "source": [
    "###validating my model##############\n",
    "from numpy import newaxis\n",
    "X_valid = preprocess(X_valid,\"valid\")\n",
    "X_valid = X_valid[...,newaxis]\n",
    "saver = tf.train.Saver()\n",
    "with tf.Session() as sess:\n",
    "    sess = tf.get_default_session()\n",
    "    saver.restore(sess, './TrafficSign.ckpt')\n",
    "\n",
    "    test_accuracy = sess.run(accuracy_operation, feed_dict={x: X_valid, y: y_valid,prob : 1.0})\n",
    "\n",
    "print('Validation Accuracy: {}'.format(test_accuracy))"
   ]
  },
  {
   "cell_type": "markdown",
   "metadata": {},
   "source": [
    "### Predict the Sign Type for Each Image"
   ]
  },
  {
   "cell_type": "code",
   "execution_count": 19,
   "metadata": {},
   "outputs": [
    {
     "data": {
      "image/png": "[encoded data removed]",
      "text/plain": [
       "<matplotlib.figure.Figure at 0x7f7c21539240>"
      ]
     },
     "metadata": {},
     "output_type": "display_data"
    },
    {
     "data": {
      "image/png": "[encoded data removed]",
      "text/plain": [
       "<matplotlib.figure.Figure at 0x7f7c4b604fd0>"
      ]
     },
     "metadata": {},
     "output_type": "display_data"
    },
    {
     "data": {
      "image/png": "[encoded data removed]",
      "text/plain": [
       "<matplotlib.figure.Figure at 0x7f7c0fda9518>"
      ]
     },
     "metadata": {},
     "output_type": "display_data"
    },
    {
     "data": {
      "image/png": "[encoded data removed]",
      "text/plain": [
       "<matplotlib.figure.Figure at 0x7f7c4ae67e80>"
      ]
     },
     "metadata": {},
     "output_type": "display_data"
    },
    {
     "data": {
      "image/png": "[encoded data removed]",
      "text/plain": [
       "<matplotlib.figure.Figure at 0x7f7c4ae7d550>"
      ]
     },
     "metadata": {},
     "output_type": "display_data"
    },
    {
     "data": {
      "image/png": "[encoded data removed]",
      "text/plain": [
       "<matplotlib.figure.Figure at 0x7f7c4ad98da0>"
      ]
     },
     "metadata": {},
     "output_type": "display_data"
    },
    {
     "data": {
      "image/png": "[encoded data removed]",
      "text/plain": [
       "<matplotlib.figure.Figure at 0x7f7c0fdb7518>"
      ]
     },
     "metadata": {},
     "output_type": "display_data"
    },
    {
     "data": {
      "image/png": "[encoded data removed]",
      "text/plain": [
       "<matplotlib.figure.Figure at 0x7f7c4aeeab38>"
      ]
     },
     "metadata": {},
     "output_type": "display_data"
    },
    {
     "data": {
      "image/png": "[encoded data removed]",
      "text/plain": [
       "<matplotlib.figure.Figure at 0x7f7c4ad938d0>"
      ]
     },
     "metadata": {},
     "output_type": "display_data"
    }
   ],
   "source": [
    "### Run the predictions here and use the model to output the prediction for each image.\n",
    "### Make sure to pre-process the images with the same pre-processing pipeline used earlier.\n",
    "### Feel free to use as many code cells as needed.\n",
    "\n",
    "import os\n",
    "import matplotlib.image as mpimg\n",
    "test_images = os.listdir(\"TestImages/\")\n",
    "\n",
    "# Show the images, add to a list to process for classifying\n",
    "test_image_list = []\n",
    "for i in range(1,len(test_images)+1):\n",
    "    temp_image = './TestImages/Image' + str(i)+'.jpg'\n",
    "    temp_image = mpimg.imread(temp_image)\n",
    "    temp_image = cv2.resize(temp_image,(32,32))\n",
    "    test_image_list.append(temp_image)\n",
    "    plt.imshow(temp_image)\n",
    "    plt.show()"
   ]
  },
  {
   "cell_type": "markdown",
   "metadata": {},
   "source": [
    "### Analyze Performance"
   ]
  },
  {
   "cell_type": "code",
   "execution_count": 20,
   "metadata": {},
   "outputs": [
    {
     "name": "stdout",
     "output_type": "stream",
     "text": [
      "(9, 32, 32, 3)\n",
      "(9, 32, 32, 1)\n"
     ]
    }
   ],
   "source": [
    "###Preprocessing the testing images###################\n",
    "test_image_list=np.asarray(test_image_list)\n",
    "print(test_image_list.shape)\n",
    "test_image_list=preprocess(test_image_list)\n",
    "test_image_list =test_image_list[...,newaxis]\n",
    "print(test_image_list.shape)"
   ]
  },
  {
   "cell_type": "code",
   "execution_count": 21,
   "metadata": {},
   "outputs": [
    {
     "name": "stdout",
     "output_type": "stream",
     "text": [
      "[[  9.51042638e-30   2.03337635e-24   1.47895404e-15   8.75414354e-20\n",
      "    2.54499200e-32   9.49562067e-18   2.02060358e-38   6.60980238e-31\n",
      "    1.11808498e-25   2.66645839e-16   1.79132601e-13   2.72037863e-23\n",
      "    1.99642750e-11   9.95927274e-01   6.40175304e-15   1.10007603e-08\n",
      "    6.22605344e-32   1.59379564e-23   2.26279766e-29   5.82188169e-31\n",
      "    6.97051599e-30   4.27113449e-20   2.12210371e-11   1.00138302e-14\n",
      "    2.44106613e-28   3.89079827e-12   4.99356280e-18   0.00000000e+00\n",
      "    2.81531535e-20   1.11311926e-09   1.12238191e-21   9.22313451e-22\n",
      "    4.74119406e-25   9.18169951e-17   4.07269783e-03   2.13038320e-09\n",
      "    2.80156437e-24   7.19347694e-17   5.16268361e-09   5.58657735e-25\n",
      "    1.36397380e-23   1.98343322e-32   3.10547254e-19]\n",
      " [  5.42530485e-13   6.67005784e-13   1.05594544e-11   1.20520260e-08\n",
      "    1.32113999e-14   8.23096018e-12   3.85432825e-10   5.15020638e-15\n",
      "    1.37967179e-13   1.01031558e-10   1.13957528e-08   2.40553105e-10\n",
      "    1.02684979e-11   1.12821397e-07   8.89521965e-04   2.49996385e-10\n",
      "    6.28506307e-14   3.56417793e-08   2.64456697e-13   2.06762585e-15\n",
      "    7.46768591e-10   2.12453336e-11   1.39064663e-13   1.75093399e-14\n",
      "    2.10493426e-15   3.67008750e-11   8.40359871e-09   8.84871828e-17\n",
      "    3.66320201e-13   2.99719104e-12   2.59339615e-13   5.72845243e-12\n",
      "    2.78234006e-13   9.99110281e-01   5.97863714e-09   1.21756508e-10\n",
      "    7.13558851e-14   2.57866662e-14   8.23997865e-08   2.83988610e-09\n",
      "    2.42323045e-12   1.44565612e-15   2.10300103e-14]\n",
      " [  1.02350134e-16   2.32432977e-15   1.70329878e-18   6.55410328e-22\n",
      "    7.47612920e-19   1.64048143e-15   1.65336849e-28   3.75450730e-25\n",
      "    1.27361419e-21   3.22418653e-20   3.79388958e-22   9.86200924e-17\n",
      "    2.33022789e-20   7.07534159e-19   9.44862688e-18   1.11235383e-22\n",
      "    5.02189363e-28   2.16750307e-25   3.15490429e-12   3.94688691e-11\n",
      "    4.81024590e-14   1.17357182e-07   4.06264217e-10   3.93474038e-11\n",
      "    7.54203302e-06   9.99922156e-01   3.76934161e-12   9.42331456e-12\n",
      "    3.84216192e-19   3.58382522e-07   2.64658351e-10   6.98046133e-05\n",
      "    6.40489622e-28   1.23188010e-20   2.49609381e-18   1.22984419e-17\n",
      "    1.54651905e-23   5.27062483e-09   1.08719144e-22   4.23380320e-18\n",
      "    9.31896444e-20   7.23447221e-30   5.58506202e-29]\n",
      " [  1.66879011e-12   2.14631368e-10   5.09454531e-16   6.48792882e-14\n",
      "    4.47004226e-18   2.97544490e-16   5.91482578e-17   1.37049045e-20\n",
      "    7.63355853e-18   1.31480384e-13   2.49853895e-18   1.52311304e-06\n",
      "    1.05500374e-11   9.15699634e-12   1.16299953e-14   4.32617346e-17\n",
      "    1.91450993e-21   4.13393868e-11   8.89925218e-08   4.02787054e-10\n",
      "    8.25295648e-12   1.38665072e-07   1.35898134e-07   1.73778753e-05\n",
      "    2.63804432e-05   3.28520400e-05   1.01519504e-07   4.36592845e-10\n",
      "    2.90652679e-07   3.39598628e-03   9.96524274e-01   4.95527779e-08\n",
      "    9.56359858e-19   2.90163964e-08   5.39923690e-07   1.20000090e-08\n",
      "    2.90958501e-13   2.09778026e-08   4.71674783e-12   1.74074283e-13\n",
      "    6.83611067e-12   1.66086493e-19   1.86121697e-18]\n",
      " [  1.63679005e-07   2.15541669e-12   2.58013992e-11   3.47191531e-07\n",
      "    1.45125535e-11   1.08140025e-11   4.03618285e-12   4.73647424e-17\n",
      "    3.80834642e-10   3.56943780e-10   1.32473701e-07   7.76549913e-14\n",
      "    1.50317188e-15   1.99452976e-12   9.94628131e-01   2.13815979e-10\n",
      "    9.79904417e-13   2.16602726e-04   2.65161445e-14   7.80030693e-11\n",
      "    1.58480432e-07   3.28482982e-13   6.21102913e-07   6.06451822e-09\n",
      "    1.24175606e-14   1.26084961e-13   4.77539288e-08   1.08424653e-18\n",
      "    8.36429789e-14   4.58168420e-10   1.22697845e-13   9.00719115e-14\n",
      "    4.70653205e-09   1.01743790e-05   5.12474542e-03   6.27954494e-11\n",
      "    1.36274343e-11   3.25698224e-08   1.88806880e-05   2.77872933e-11\n",
      "    1.09189342e-08   2.42450938e-12   1.56815868e-14]\n",
      " [  2.70670844e-05   9.99124587e-01   9.02941429e-06   2.15920900e-05\n",
      "    1.26825485e-04   6.90072717e-04   8.50748272e-09   5.38068377e-07\n",
      "    1.53874140e-08   5.13964999e-12   7.94326830e-14   1.68506251e-11\n",
      "    3.80324572e-08   1.04190597e-11   6.65535793e-10   9.18363607e-09\n",
      "    5.20496368e-10   2.80617907e-15   1.14333890e-11   3.66727794e-11\n",
      "    3.00400607e-11   4.56410604e-11   4.90238900e-16   9.13526091e-13\n",
      "    1.06620567e-10   5.23942978e-09   3.16015858e-09   1.32440503e-08\n",
      "    2.10008725e-12   4.25476848e-10   5.09397871e-11   4.29939140e-10\n",
      "    1.05797503e-10   2.88984769e-09   2.19061314e-11   2.21167817e-09\n",
      "    2.39402959e-11   7.02402545e-08   2.20170304e-09   4.26049690e-12\n",
      "    1.49959634e-09   4.95285575e-14   7.70809042e-11]\n",
      " [  2.38794046e-16   3.19580483e-14   1.10180843e-14   3.04659964e-09\n",
      "    1.93693105e-21   3.31820075e-15   5.84270618e-11   1.25238930e-16\n",
      "    4.29878216e-19   1.64466094e-10   4.70045364e-07   1.04988816e-10\n",
      "    4.71961710e-14   4.40987629e-15   6.92438398e-11   5.67565167e-14\n",
      "    3.65922952e-11   1.41218564e-07   2.21093177e-13   9.45035022e-11\n",
      "    2.24921796e-12   1.24052374e-12   1.56000456e-11   1.18295975e-05\n",
      "    3.39785310e-20   1.13180156e-13   1.12536455e-07   7.73794372e-24\n",
      "    1.81155351e-11   3.37630410e-11   2.68360552e-08   1.43408441e-12\n",
      "    8.84708584e-07   6.95129287e-09   9.99986529e-01   7.81237748e-12\n",
      "    3.26922509e-15   2.77180112e-10   6.93028968e-11   3.88937336e-14\n",
      "    2.33095525e-13   1.38798273e-09   1.19348273e-08]\n",
      " [  4.06284118e-03   9.67646018e-02   2.42139153e-09   3.66728620e-13\n",
      "    8.99172544e-01   9.65188747e-08   1.98500159e-16   1.50509223e-08\n",
      "    1.39301236e-13   5.30821043e-16   1.43120341e-19   5.77883834e-19\n",
      "    2.60356126e-10   8.24687955e-20   9.39878925e-18   2.71304229e-15\n",
      "    4.00467854e-08   3.35950338e-22   6.63302885e-20   1.49759904e-22\n",
      "    1.44517993e-22   1.11512178e-23   2.02644904e-29   6.28366615e-28\n",
      "    5.74224775e-20   5.41013385e-18   2.16801342e-17   1.27654330e-13\n",
      "    3.72131554e-21   6.93468256e-16   5.36288343e-22   4.01156670e-19\n",
      "    2.14745700e-20   4.69957003e-15   3.53511952e-20   1.26460198e-15\n",
      "    1.19053925e-20   1.39130651e-11   1.40147980e-16   3.09326025e-19\n",
      "    1.13382484e-10   1.44114689e-19   1.59334648e-15]\n",
      " [  5.51088797e-13   1.04889112e-12   1.70676028e-13   2.01477376e-11\n",
      "    1.11490800e-13   3.98547216e-13   1.08628584e-11   1.17665636e-18\n",
      "    2.26967459e-14   2.07642722e-11   6.78095557e-12   3.43843517e-15\n",
      "    1.84185523e-12   5.12998923e-08   9.99996781e-01   1.27416479e-06\n",
      "    2.01161691e-19   1.07421613e-07   7.30636021e-19   9.58696191e-21\n",
      "    6.82433312e-15   1.21548286e-15   1.43286744e-10   3.95136714e-16\n",
      "    2.62454503e-18   1.63498806e-14   1.05015475e-11   2.32306789e-22\n",
      "    1.77174208e-18   4.33247086e-14   4.02035937e-19   4.81605770e-18\n",
      "    2.58391416e-11   6.76302747e-08   7.33777794e-09   1.12085584e-11\n",
      "    2.38164472e-14   4.59198651e-13   1.62969411e-06   2.14622631e-14\n",
      "    9.20330017e-17   2.46618242e-17   1.28903631e-16]]\n"
     ]
    }
   ],
   "source": [
    "### Calculate the accuracy for these 5 new images. \n",
    "### For example, if the model predicted 1 out of 5 signs correctly, it's 20% accurate on these new images.\n",
    "with tf.Session() as sess:\n",
    "#     saver.restore(sess, './TrafficSign.ckpt')\n",
    "    new_saver = tf.train.import_meta_graph('TrafficSign.ckpt.meta')\n",
    "    new_saver.restore(sess,tf.train.latest_checkpoint('.'))\n",
    "    test_images_output = sess.run(tf.nn.softmax(logits), feed_dict={x: test_image_list,prob : 1.0})\n",
    "print(test_images_output)"
   ]
  },
  {
   "cell_type": "markdown",
   "metadata": {},
   "source": [
    "### Output Top 5 Softmax Probabilities For Each Image Found on the Web"
   ]
  },
  {
   "cell_type": "markdown",
   "metadata": {},
   "source": [
    "For each of the new images, print out the model's softmax probabilities to show the **certainty** of the model's predictions (limit the output to the top 5 probabilities for each image). [`tf.nn.top_k`](https://www.tensorflow.org/versions/r0.12/api_docs/python/nn.html#top_k) could prove helpful here. \n",
    "\n",
    "The example below demonstrates how tf.nn.top_k can be used to find the top k predictions for each image.\n",
    "\n",
    "`tf.nn.top_k` will return the values and indices (class ids) of the top k predictions. So if k=3, for each sign, it'll return the 3 largest probabilities (out of a possible 43) and the correspoding class ids.\n",
    "\n",
    "Take this numpy array as an example. The values in the array represent predictions. The array contains softmax probabilities for five candidate images with six possible classes. `tf.nn.top_k` is used to choose the three classes with the highest probability:\n",
    "\n",
    "```\n",
    "# (5, 6) array\n",
    "a = np.array([[ 0.24879643,  0.07032244,  0.12641572,  0.34763842,  0.07893497,\n",
    "         0.12789202],\n",
    "       [ 0.28086119,  0.27569815,  0.08594638,  0.0178669 ,  0.18063401,\n",
    "         0.15899337],\n",
    "       [ 0.26076848,  0.23664738,  0.08020603,  0.07001922,  0.1134371 ,\n",
    "         0.23892179],\n",
    "       [ 0.11943333,  0.29198961,  0.02605103,  0.26234032,  0.1351348 ,\n",
    "         0.16505091],\n",
    "       [ 0.09561176,  0.34396535,  0.0643941 ,  0.16240774,  0.24206137,\n",
    "         0.09155967]])\n",
    "```\n",
    "\n",
    "Running it through `sess.run(tf.nn.top_k(tf.constant(a), k=3))` produces:\n",
    "\n",
    "```\n",
    "TopKV2(values=array([[ 0.34763842,  0.24879643,  0.12789202],\n",
    "       [ 0.28086119,  0.27569815,  0.18063401],\n",
    "       [ 0.26076848,  0.23892179,  0.23664738],\n",
    "       [ 0.29198961,  0.26234032,  0.16505091],\n",
    "       [ 0.34396535,  0.24206137,  0.16240774]]), indices=array([[3, 0, 5],\n",
    "       [0, 1, 4],\n",
    "       [0, 5, 1],\n",
    "       [1, 3, 5],\n",
    "       [1, 4, 3]], dtype=int32))\n",
    "```\n",
    "\n",
    "Looking just at the first row we get `[ 0.34763842,  0.24879643,  0.12789202]`, you can confirm these are the 3 largest probabilities in `a`. You'll also notice `[3, 0, 5]` are the corresponding indices."
   ]
  },
  {
   "cell_type": "code",
   "execution_count": 22,
   "metadata": {
    "scrolled": true
   },
   "outputs": [
    {
     "name": "stdout",
     "output_type": "stream",
     "text": [
      "[array([13, 34, 15, 38, 35], dtype=int32), array([33, 14, 13, 38, 17], dtype=int32), array([25, 31, 24, 29, 21], dtype=int32), array([30, 29, 25, 24, 23], dtype=int32), array([14, 34, 17, 38, 33], dtype=int32), array([1, 5, 4, 0, 3], dtype=int32), array([34, 23, 32, 10, 17], dtype=int32), array([ 4,  1,  0,  5, 16], dtype=int32), array([14, 38, 15, 17, 33], dtype=int32)]\n"
     ]
    }
   ],
   "source": [
    "### Print out the top five softmax probabilities for the predictions on the German traffic sign images found on the web. \n",
    "### Feel free to use as many code cells as needed.\n",
    "with tf.Session() as sess:\n",
    "    predicts = sess.run(tf.nn.top_k(test_images_output, k=5, sorted=True))\n",
    "import csv\n",
    "answers_list = []\n",
    "probabilty_list = []\n",
    "for i in range(0,len(predicts[0])):\n",
    "    answers_list.append(predicts[1][i])\n",
    "    probabilty_list.append(predicts[0][i])\n",
    "print(answers_list)\n",
    "import csv\n",
    "complete_prediction = []\n",
    "for i in answers_list:\n",
    "    temp=[]\n",
    "    for j in i:\n",
    "       \n",
    "        with open('signnames.csv') as csvfile:\n",
    "             reader = csv.DictReader(csvfile)\n",
    "             for row in reader:\n",
    "                if row['ClassId'] == str(j):\n",
    "                    temp.append(row['SignName'])\n",
    "    complete_prediction.append(temp)\n"
   ]
  },
  {
   "cell_type": "code",
   "execution_count": 23,
   "metadata": {},
   "outputs": [
    {
     "data": {
      "image/png": "[encoded data removed]",
      "text/plain": [
       "<matplotlib.figure.Figure at 0x7f7c1ca80e48>"
      ]
     },
     "metadata": {},
     "output_type": "display_data"
    },
    {
     "data": {
      "image/png": "[encoded data removed]",
      "text/plain": [
       "<matplotlib.figure.Figure at 0x7f7c4ac67160>"
      ]
     },
     "metadata": {},
     "output_type": "display_data"
    },
    {
     "data": {
      "image/png": "[encoded data removed]",
      "text/plain": [
       "<matplotlib.figure.Figure at 0x7f7c1cadab70>"
      ]
     },
     "metadata": {},
     "output_type": "display_data"
    },
    {
     "data": {
      "image/png": "[encoded data removed]",
      "text/plain": [
       "<matplotlib.figure.Figure at 0x7f7c4ac86e80>"
      ]
     },
     "metadata": {},
     "output_type": "display_data"
    },
    {
     "data": {
      "image/png": "[encoded data removed]",
      "text/plain": [
       "<matplotlib.figure.Figure at 0x7f7c4ad2cfd0>"
      ]
     },
     "metadata": {},
     "output_type": "display_data"
    },
    {
     "data": {
      "image/png": "[encoded data removed]",
      "text/plain": [
       "<matplotlib.figure.Figure at 0x7f7c4ad94c88>"
      ]
     },
     "metadata": {},
     "output_type": "display_data"
    },
    {
     "data": {
      "image/png": "[encoded data removed]",
      "text/plain": [
       "<matplotlib.figure.Figure at 0x7f7c4add2ba8>"
      ]
     },
     "metadata": {},
     "output_type": "display_data"
    },
    {
     "data": {
      "image/png": "[encoded data removed]",
      "text/plain": [
       "<matplotlib.figure.Figure at 0x7f7c4ae33b38>"
      ]
     },
     "metadata": {},
     "output_type": "display_data"
    },
    {
     "data": {
      "image/png": "[encoded data removed]",
      "text/plain": [
       "<matplotlib.figure.Figure at 0x7f7c1c7b9f28>"
      ]
     },
     "metadata": {},
     "output_type": "display_data"
    }
   ],
   "source": [
    "for i in range(len(predicts[0])):\n",
    "    temp = [i for i in range(1,len(complete_prediction[i])+1)]\n",
    "    plt.bar(temp,probabilty_list[i],width = 0.2,orientation = \"vertical\")\n",
    "    plt.xticks(temp,complete_prediction[i])\n",
    "    plt.show()"
   ]
  },
  {
   "cell_type": "code",
   "execution_count": 24,
   "metadata": {},
   "outputs": [
    {
     "name": "stdout",
     "output_type": "stream",
     "text": [
      "For Image  1 Probability's are\n",
      "Yield \t\t\t\t 0.995927\n",
      "Turn left ahead \t\t\t\t 0.0040727\n",
      "No vehicles \t\t\t\t 1.10008e-08\n",
      "Keep right \t\t\t\t 5.16268e-09\n",
      "Ahead only \t\t\t\t 2.13038e-09\n",
      "\n",
      "\n",
      "\n",
      "For Image  2 Probability's are\n",
      "Turn right ahead \t\t\t\t 0.99911\n",
      "Stop \t\t\t\t 0.000889522\n",
      "Yield \t\t\t\t 1.12821e-07\n",
      "Keep right \t\t\t\t 8.23998e-08\n",
      "No entry \t\t\t\t 3.56418e-08\n",
      "\n",
      "\n",
      "\n",
      "For Image  3 Probability's are\n",
      "Road work \t\t\t\t 0.999922\n",
      "Wild animals crossing \t\t\t\t 6.98046e-05\n",
      "Road narrows on the right \t\t\t\t 7.54203e-06\n",
      "Bicycles crossing \t\t\t\t 3.58383e-07\n",
      "Double curve \t\t\t\t 1.17357e-07\n",
      "\n",
      "\n",
      "\n",
      "For Image  4 Probability's are\n",
      "Beware of ice/snow \t\t\t\t 0.996524\n",
      "Bicycles crossing \t\t\t\t 0.00339599\n",
      "Road work \t\t\t\t 3.2852e-05\n",
      "Road narrows on the right \t\t\t\t 2.63804e-05\n",
      "Slippery road \t\t\t\t 1.73779e-05\n",
      "\n",
      "\n",
      "\n",
      "For Image  5 Probability's are\n",
      "Stop \t\t\t\t 0.994628\n",
      "Turn left ahead \t\t\t\t 0.00512475\n",
      "No entry \t\t\t\t 0.000216603\n",
      "Keep right \t\t\t\t 1.88807e-05\n",
      "Turn right ahead \t\t\t\t 1.01744e-05\n",
      "\n",
      "\n",
      "\n",
      "For Image  6 Probability's are\n",
      "Speed limit (30km/h) \t\t\t\t 0.999125\n",
      "Speed limit (80km/h) \t\t\t\t 0.000690073\n",
      "Speed limit (70km/h) \t\t\t\t 0.000126825\n",
      "Speed limit (20km/h) \t\t\t\t 2.70671e-05\n",
      "Speed limit (60km/h) \t\t\t\t 2.15921e-05\n",
      "\n",
      "\n",
      "\n",
      "For Image  7 Probability's are\n",
      "Turn left ahead \t\t\t\t 0.999987\n",
      "Slippery road \t\t\t\t 1.18296e-05\n",
      "End of all speed and passing limits \t\t\t\t 8.84709e-07\n",
      "No passing for vehicles over 3.5 metric tons \t\t\t\t 4.70045e-07\n",
      "No entry \t\t\t\t 1.41219e-07\n",
      "\n",
      "\n",
      "\n",
      "For Image  8 Probability's are\n",
      "Speed limit (70km/h) \t\t\t\t 0.899173\n",
      "Speed limit (30km/h) \t\t\t\t 0.0967646\n",
      "Speed limit (20km/h) \t\t\t\t 0.00406284\n",
      "Speed limit (80km/h) \t\t\t\t 9.65189e-08\n",
      "Vehicles over 3.5 metric tons prohibited \t\t\t\t 4.00468e-08\n",
      "\n",
      "\n",
      "\n",
      "For Image  9 Probability's are\n",
      "Stop \t\t\t\t 0.999997\n",
      "Keep right \t\t\t\t 1.62969e-06\n",
      "No vehicles \t\t\t\t 1.27416e-06\n",
      "No entry \t\t\t\t 1.07422e-07\n",
      "Turn right ahead \t\t\t\t 6.76303e-08\n",
      "\n",
      "\n",
      "\n"
     ]
    }
   ],
   "source": [
    "for i in range(len(predicts[0])):\n",
    "    print(\"For Image \",str(i+1),\"Probability's are\")\n",
    "    for j in range(len(complete_prediction[i])):\n",
    "        print(str(complete_prediction[i][j]),\"\\t\\t\\t\\t\",str(probabilty_list[i][j]))\n",
    "    print(\"\\n\\n\")\n",
    "        "
   ]
  },
  {
   "cell_type": "code",
   "execution_count": null,
   "metadata": {
    "collapsed": true
   },
   "outputs": [],
   "source": []
  }
 ],
 "metadata": {
  "anaconda-cloud": {},
  "kernelspec": {
   "display_name": "Python 3",
   "language": "python",
   "name": "python3"
  },
  "language_info": {
   "codemirror_mode": {
    "name": "ipython",
    "version": 3
   },
   "file_extension": ".py",
   "mimetype": "text/x-python",
   "name": "python",
   "nbconvert_exporter": "python",
   "pygments_lexer": "ipython3",
   "version": "3.5.2"
  },
  "widgets": {
   "state": {},
   "version": "1.1.2"
  }
 },
 "nbformat": 4,
 "nbformat_minor": 1
}
